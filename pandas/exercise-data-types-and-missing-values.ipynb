{
 "cells": [
  {
   "cell_type": "markdown",
   "id": "7cd8b480",
   "metadata": {
    "papermill": {
     "duration": 0.006713,
     "end_time": "2024-05-23T11:15:06.003608",
     "exception": false,
     "start_time": "2024-05-23T11:15:05.996895",
     "status": "completed"
    },
    "tags": []
   },
   "source": [
    "**This notebook is an exercise in the [Pandas](https://www.kaggle.com/learn/pandas) course.  You can reference the tutorial at [this link](https://www.kaggle.com/residentmario/data-types-and-missing-values).**\n",
    "\n",
    "---\n"
   ]
  },
  {
   "cell_type": "markdown",
   "id": "11870b6f",
   "metadata": {
    "papermill": {
     "duration": 0.005682,
     "end_time": "2024-05-23T11:15:06.015675",
     "exception": false,
     "start_time": "2024-05-23T11:15:06.009993",
     "status": "completed"
    },
    "tags": []
   },
   "source": [
    "# Introduction\n",
    "\n",
    "Run the following cell to load your data and some utility functions."
   ]
  },
  {
   "cell_type": "code",
   "execution_count": 1,
   "id": "737050e8",
   "metadata": {
    "execution": {
     "iopub.execute_input": "2024-05-23T11:15:06.030398Z",
     "iopub.status.busy": "2024-05-23T11:15:06.029551Z",
     "iopub.status.idle": "2024-05-23T11:15:09.990843Z",
     "shell.execute_reply": "2024-05-23T11:15:09.989706Z"
    },
    "papermill": {
     "duration": 3.971634,
     "end_time": "2024-05-23T11:15:09.993295",
     "exception": false,
     "start_time": "2024-05-23T11:15:06.021661",
     "status": "completed"
    },
    "tags": []
   },
   "outputs": [
    {
     "name": "stdout",
     "output_type": "stream",
     "text": [
      "Setup complete.\n"
     ]
    }
   ],
   "source": [
    "import pandas as pd\n",
    "\n",
    "reviews = pd.read_csv(\"../input/wine-reviews/winemag-data-130k-v2.csv\", index_col=0)\n",
    "\n",
    "from learntools.core import binder; binder.bind(globals())\n",
    "from learntools.pandas.data_types_and_missing_data import *\n",
    "print(\"Setup complete.\")"
   ]
  },
  {
   "cell_type": "markdown",
   "id": "e671633a",
   "metadata": {
    "papermill": {
     "duration": 0.005859,
     "end_time": "2024-05-23T11:15:10.005407",
     "exception": false,
     "start_time": "2024-05-23T11:15:09.999548",
     "status": "completed"
    },
    "tags": []
   },
   "source": [
    "# Exercises"
   ]
  },
  {
   "cell_type": "markdown",
   "id": "420b70d7",
   "metadata": {
    "papermill": {
     "duration": 0.005876,
     "end_time": "2024-05-23T11:15:10.017429",
     "exception": false,
     "start_time": "2024-05-23T11:15:10.011553",
     "status": "completed"
    },
    "tags": []
   },
   "source": [
    "## 1. \n",
    "What is the data type of the `points` column in the dataset?"
   ]
  },
  {
   "cell_type": "code",
   "execution_count": 2,
   "id": "7742b07a",
   "metadata": {
    "execution": {
     "iopub.execute_input": "2024-05-23T11:15:10.031588Z",
     "iopub.status.busy": "2024-05-23T11:15:10.031197Z",
     "iopub.status.idle": "2024-05-23T11:15:10.041373Z",
     "shell.execute_reply": "2024-05-23T11:15:10.040267Z"
    },
    "papermill": {
     "duration": 0.020196,
     "end_time": "2024-05-23T11:15:10.043712",
     "exception": false,
     "start_time": "2024-05-23T11:15:10.023516",
     "status": "completed"
    },
    "tags": []
   },
   "outputs": [
    {
     "data": {
      "application/javascript": [
       "parent.postMessage({\"jupyterEvent\": \"custom.exercise_interaction\", \"data\": {\"outcomeType\": 1, \"valueTowardsCompletion\": 0.25, \"interactionType\": 1, \"questionType\": 1, \"questionId\": \"1_PointsDtype\", \"learnToolsVersion\": \"0.3.4\", \"failureMessage\": \"\", \"exceptionClass\": \"\", \"trace\": \"\"}}, \"*\")"
      ],
      "text/plain": [
       "<IPython.core.display.Javascript object>"
      ]
     },
     "metadata": {},
     "output_type": "display_data"
    },
    {
     "data": {
      "text/markdown": [
       "<span style=\"color:#33cc33\">Correct</span>"
      ],
      "text/plain": [
       "Correct"
      ]
     },
     "metadata": {},
     "output_type": "display_data"
    }
   ],
   "source": [
    "# Your code here\n",
    "dtype = reviews.points.dtype\n",
    "\n",
    "# Check your answer\n",
    "q1.check()"
   ]
  },
  {
   "cell_type": "code",
   "execution_count": 3,
   "id": "b2f511a3",
   "metadata": {
    "execution": {
     "iopub.execute_input": "2024-05-23T11:15:10.058179Z",
     "iopub.status.busy": "2024-05-23T11:15:10.057835Z",
     "iopub.status.idle": "2024-05-23T11:15:10.069288Z",
     "shell.execute_reply": "2024-05-23T11:15:10.068575Z"
    },
    "papermill": {
     "duration": 0.021255,
     "end_time": "2024-05-23T11:15:10.071420",
     "exception": false,
     "start_time": "2024-05-23T11:15:10.050165",
     "status": "completed"
    },
    "tags": []
   },
   "outputs": [
    {
     "data": {
      "application/javascript": [
       "parent.postMessage({\"jupyterEvent\": \"custom.exercise_interaction\", \"data\": {\"interactionType\": 2, \"questionType\": 1, \"questionId\": \"1_PointsDtype\", \"learnToolsVersion\": \"0.3.4\", \"valueTowardsCompletion\": 0.0, \"failureMessage\": \"\", \"exceptionClass\": \"\", \"trace\": \"\", \"outcomeType\": 4}}, \"*\")"
      ],
      "text/plain": [
       "<IPython.core.display.Javascript object>"
      ]
     },
     "metadata": {},
     "output_type": "display_data"
    },
    {
     "data": {
      "text/markdown": [
       "<span style=\"color:#3366cc\">Hint:</span> `dtype` is an attribute of a DataFrame or Series."
      ],
      "text/plain": [
       "Hint: `dtype` is an attribute of a DataFrame or Series."
      ]
     },
     "metadata": {},
     "output_type": "display_data"
    },
    {
     "data": {
      "application/javascript": [
       "parent.postMessage({\"jupyterEvent\": \"custom.exercise_interaction\", \"data\": {\"interactionType\": 3, \"questionType\": 1, \"questionId\": \"1_PointsDtype\", \"learnToolsVersion\": \"0.3.4\", \"valueTowardsCompletion\": 0.0, \"failureMessage\": \"\", \"exceptionClass\": \"\", \"trace\": \"\", \"outcomeType\": 4}}, \"*\")"
      ],
      "text/plain": [
       "<IPython.core.display.Javascript object>"
      ]
     },
     "metadata": {},
     "output_type": "display_data"
    },
    {
     "data": {
      "text/markdown": [
       "<span style=\"color:#33cc99\">Solution:</span> \n",
       "```python\n",
       "dtype = reviews.points.dtype\n",
       "```"
      ],
      "text/plain": [
       "Solution: \n",
       "```python\n",
       "dtype = reviews.points.dtype\n",
       "```"
      ]
     },
     "metadata": {},
     "output_type": "display_data"
    }
   ],
   "source": [
    "q1.hint()\n",
    "q1.solution()"
   ]
  },
  {
   "cell_type": "markdown",
   "id": "ab6b4db2",
   "metadata": {
    "papermill": {
     "duration": 0.006803,
     "end_time": "2024-05-23T11:15:10.085354",
     "exception": false,
     "start_time": "2024-05-23T11:15:10.078551",
     "status": "completed"
    },
    "tags": []
   },
   "source": [
    "## 2. \n",
    "Create a Series from entries in the `points` column, but convert the entries to strings. Hint: strings are `str` in native Python."
   ]
  },
  {
   "cell_type": "code",
   "execution_count": 4,
   "id": "d4eba43d",
   "metadata": {
    "execution": {
     "iopub.execute_input": "2024-05-23T11:15:10.101080Z",
     "iopub.status.busy": "2024-05-23T11:15:10.100722Z",
     "iopub.status.idle": "2024-05-23T11:15:10.173248Z",
     "shell.execute_reply": "2024-05-23T11:15:10.172243Z"
    },
    "papermill": {
     "duration": 0.083061,
     "end_time": "2024-05-23T11:15:10.175523",
     "exception": false,
     "start_time": "2024-05-23T11:15:10.092462",
     "status": "completed"
    },
    "tags": []
   },
   "outputs": [
    {
     "data": {
      "application/javascript": [
       "parent.postMessage({\"jupyterEvent\": \"custom.exercise_interaction\", \"data\": {\"outcomeType\": 1, \"valueTowardsCompletion\": 0.25, \"interactionType\": 1, \"questionType\": 1, \"questionId\": \"2_StrPoints\", \"learnToolsVersion\": \"0.3.4\", \"failureMessage\": \"\", \"exceptionClass\": \"\", \"trace\": \"\"}}, \"*\")"
      ],
      "text/plain": [
       "<IPython.core.display.Javascript object>"
      ]
     },
     "metadata": {},
     "output_type": "display_data"
    },
    {
     "data": {
      "text/markdown": [
       "<span style=\"color:#33cc33\">Correct</span>"
      ],
      "text/plain": [
       "Correct"
      ]
     },
     "metadata": {},
     "output_type": "display_data"
    }
   ],
   "source": [
    "point_strings = reviews.points.astype(str)\n",
    "\n",
    "# Check your answer\n",
    "q2.check()"
   ]
  },
  {
   "cell_type": "code",
   "execution_count": 5,
   "id": "a5bf505f",
   "metadata": {
    "execution": {
     "iopub.execute_input": "2024-05-23T11:15:10.192096Z",
     "iopub.status.busy": "2024-05-23T11:15:10.191732Z",
     "iopub.status.idle": "2024-05-23T11:15:10.200277Z",
     "shell.execute_reply": "2024-05-23T11:15:10.199260Z"
    },
    "papermill": {
     "duration": 0.019376,
     "end_time": "2024-05-23T11:15:10.202576",
     "exception": false,
     "start_time": "2024-05-23T11:15:10.183200",
     "status": "completed"
    },
    "tags": []
   },
   "outputs": [
    {
     "data": {
      "application/javascript": [
       "parent.postMessage({\"jupyterEvent\": \"custom.exercise_interaction\", \"data\": {\"interactionType\": 2, \"questionType\": 1, \"questionId\": \"2_StrPoints\", \"learnToolsVersion\": \"0.3.4\", \"valueTowardsCompletion\": 0.0, \"failureMessage\": \"\", \"exceptionClass\": \"\", \"trace\": \"\", \"outcomeType\": 4}}, \"*\")"
      ],
      "text/plain": [
       "<IPython.core.display.Javascript object>"
      ]
     },
     "metadata": {},
     "output_type": "display_data"
    },
    {
     "data": {
      "text/markdown": [
       "<span style=\"color:#3366cc\">Hint:</span> Convert a column of one type to another by using the `astype` function."
      ],
      "text/plain": [
       "Hint: Convert a column of one type to another by using the `astype` function."
      ]
     },
     "metadata": {},
     "output_type": "display_data"
    }
   ],
   "source": [
    "q2.hint()\n",
    "#q2.solution()"
   ]
  },
  {
   "cell_type": "markdown",
   "id": "6d9f7958",
   "metadata": {
    "papermill": {
     "duration": 0.00766,
     "end_time": "2024-05-23T11:15:10.217978",
     "exception": false,
     "start_time": "2024-05-23T11:15:10.210318",
     "status": "completed"
    },
    "tags": []
   },
   "source": [
    "## 3.\n",
    "Sometimes the price column is null. How many reviews in the dataset are missing a price?"
   ]
  },
  {
   "cell_type": "code",
   "execution_count": 6,
   "id": "35c76513",
   "metadata": {
    "execution": {
     "iopub.execute_input": "2024-05-23T11:15:10.236180Z",
     "iopub.status.busy": "2024-05-23T11:15:10.235802Z",
     "iopub.status.idle": "2024-05-23T11:15:10.254165Z",
     "shell.execute_reply": "2024-05-23T11:15:10.253104Z"
    },
    "papermill": {
     "duration": 0.02961,
     "end_time": "2024-05-23T11:15:10.256433",
     "exception": false,
     "start_time": "2024-05-23T11:15:10.226823",
     "status": "completed"
    },
    "tags": []
   },
   "outputs": [
    {
     "data": {
      "application/javascript": [
       "parent.postMessage({\"jupyterEvent\": \"custom.exercise_interaction\", \"data\": {\"outcomeType\": 1, \"valueTowardsCompletion\": 0.25, \"interactionType\": 1, \"questionType\": 1, \"questionId\": \"3_CountMissingPrices\", \"learnToolsVersion\": \"0.3.4\", \"failureMessage\": \"\", \"exceptionClass\": \"\", \"trace\": \"\"}}, \"*\")"
      ],
      "text/plain": [
       "<IPython.core.display.Javascript object>"
      ]
     },
     "metadata": {},
     "output_type": "display_data"
    },
    {
     "data": {
      "text/markdown": [
       "<span style=\"color:#33cc33\">Correct</span>"
      ],
      "text/plain": [
       "Correct"
      ]
     },
     "metadata": {},
     "output_type": "display_data"
    }
   ],
   "source": [
    "missing_price_reviews = reviews[reviews.price.isnull()]\n",
    "n_missing_prices = len(missing_price_reviews)\n",
    "# Cute alternative solution: if we sum a boolean series, True is treated as 1 and False as 0\n",
    "n_missing_prices = reviews.price.isnull().sum()\n",
    "# or equivalently:\n",
    "n_missing_prices = pd.isnull(reviews.price).sum()\n",
    "\n",
    "# Check your answer\n",
    "q3.check()"
   ]
  },
  {
   "cell_type": "code",
   "execution_count": 7,
   "id": "74f1d84f",
   "metadata": {
    "execution": {
     "iopub.execute_input": "2024-05-23T11:15:10.274491Z",
     "iopub.status.busy": "2024-05-23T11:15:10.274114Z",
     "iopub.status.idle": "2024-05-23T11:15:10.286902Z",
     "shell.execute_reply": "2024-05-23T11:15:10.285904Z"
    },
    "papermill": {
     "duration": 0.02441,
     "end_time": "2024-05-23T11:15:10.289146",
     "exception": false,
     "start_time": "2024-05-23T11:15:10.264736",
     "status": "completed"
    },
    "tags": []
   },
   "outputs": [
    {
     "data": {
      "application/javascript": [
       "parent.postMessage({\"jupyterEvent\": \"custom.exercise_interaction\", \"data\": {\"interactionType\": 2, \"questionType\": 1, \"questionId\": \"3_CountMissingPrices\", \"learnToolsVersion\": \"0.3.4\", \"valueTowardsCompletion\": 0.0, \"failureMessage\": \"\", \"exceptionClass\": \"\", \"trace\": \"\", \"outcomeType\": 4}}, \"*\")"
      ],
      "text/plain": [
       "<IPython.core.display.Javascript object>"
      ]
     },
     "metadata": {},
     "output_type": "display_data"
    },
    {
     "data": {
      "text/markdown": [
       "<span style=\"color:#3366cc\">Hint:</span> Use `pd.isnull()`."
      ],
      "text/plain": [
       "Hint: Use `pd.isnull()`."
      ]
     },
     "metadata": {},
     "output_type": "display_data"
    },
    {
     "data": {
      "application/javascript": [
       "parent.postMessage({\"jupyterEvent\": \"custom.exercise_interaction\", \"data\": {\"interactionType\": 3, \"questionType\": 1, \"questionId\": \"3_CountMissingPrices\", \"learnToolsVersion\": \"0.3.4\", \"valueTowardsCompletion\": 0.0, \"failureMessage\": \"\", \"exceptionClass\": \"\", \"trace\": \"\", \"outcomeType\": 4}}, \"*\")"
      ],
      "text/plain": [
       "<IPython.core.display.Javascript object>"
      ]
     },
     "metadata": {},
     "output_type": "display_data"
    },
    {
     "data": {
      "text/markdown": [
       "<span style=\"color:#33cc99\">Solution:</span> \n",
       "```python\n",
       "missing_price_reviews = reviews[reviews.price.isnull()]\n",
       "n_missing_prices = len(missing_price_reviews)\n",
       "# Cute alternative solution: if we sum a boolean series, True is treated as 1 and False as 0\n",
       "n_missing_prices = reviews.price.isnull().sum()\n",
       "# or equivalently:\n",
       "n_missing_prices = pd.isnull(reviews.price).sum()\n",
       "\n",
       "```"
      ],
      "text/plain": [
       "Solution: \n",
       "```python\n",
       "missing_price_reviews = reviews[reviews.price.isnull()]\n",
       "n_missing_prices = len(missing_price_reviews)\n",
       "# Cute alternative solution: if we sum a boolean series, True is treated as 1 and False as 0\n",
       "n_missing_prices = reviews.price.isnull().sum()\n",
       "# or equivalently:\n",
       "n_missing_prices = pd.isnull(reviews.price).sum()\n",
       "\n",
       "```"
      ]
     },
     "metadata": {},
     "output_type": "display_data"
    }
   ],
   "source": [
    "q3.hint()\n",
    "q3.solution()"
   ]
  },
  {
   "cell_type": "markdown",
   "id": "3fcf4524",
   "metadata": {
    "papermill": {
     "duration": 0.008721,
     "end_time": "2024-05-23T11:15:10.306963",
     "exception": false,
     "start_time": "2024-05-23T11:15:10.298242",
     "status": "completed"
    },
    "tags": []
   },
   "source": [
    "## 4.\n",
    "What are the most common wine-producing regions? Create a Series counting the number of times each value occurs in the `region_1` field. This field is often missing data, so replace missing values with `Unknown`. Sort in descending order.  Your output should look something like this:\n",
    "\n",
    "```\n",
    "Unknown                    21247\n",
    "Napa Valley                 4480\n",
    "                           ...  \n",
    "Bardolino Superiore            1\n",
    "Primitivo del Tarantino        1\n",
    "Name: region_1, Length: 1230, dtype: int64\n",
    "```"
   ]
  },
  {
   "cell_type": "code",
   "execution_count": 8,
   "id": "b368484c",
   "metadata": {
    "execution": {
     "iopub.execute_input": "2024-05-23T11:15:10.326657Z",
     "iopub.status.busy": "2024-05-23T11:15:10.325894Z",
     "iopub.status.idle": "2024-05-23T11:15:10.414737Z",
     "shell.execute_reply": "2024-05-23T11:15:10.413674Z"
    },
    "papermill": {
     "duration": 0.101439,
     "end_time": "2024-05-23T11:15:10.417239",
     "exception": false,
     "start_time": "2024-05-23T11:15:10.315800",
     "status": "completed"
    },
    "tags": []
   },
   "outputs": [
    {
     "data": {
      "application/javascript": [
       "parent.postMessage({\"jupyterEvent\": \"custom.exercise_interaction\", \"data\": {\"outcomeType\": 1, \"valueTowardsCompletion\": 0.25, \"interactionType\": 1, \"questionType\": 2, \"questionId\": \"4_ReviewsPerRegion\", \"learnToolsVersion\": \"0.3.4\", \"failureMessage\": \"\", \"exceptionClass\": \"\", \"trace\": \"\"}}, \"*\")"
      ],
      "text/plain": [
       "<IPython.core.display.Javascript object>"
      ]
     },
     "metadata": {},
     "output_type": "display_data"
    },
    {
     "data": {
      "text/markdown": [
       "<span style=\"color:#33cc33\">Correct</span>"
      ],
      "text/plain": [
       "Correct"
      ]
     },
     "metadata": {},
     "output_type": "display_data"
    }
   ],
   "source": [
    "reviews_per_region = reviews.region_1.fillna('Unknown').value_counts().sort_values(ascending=False)\n",
    "\n",
    "# Check your answer\n",
    "q4.check()"
   ]
  },
  {
   "cell_type": "code",
   "execution_count": 9,
   "id": "7730a45a",
   "metadata": {
    "execution": {
     "iopub.execute_input": "2024-05-23T11:15:10.437215Z",
     "iopub.status.busy": "2024-05-23T11:15:10.436867Z",
     "iopub.status.idle": "2024-05-23T11:15:10.445048Z",
     "shell.execute_reply": "2024-05-23T11:15:10.444079Z"
    },
    "papermill": {
     "duration": 0.020775,
     "end_time": "2024-05-23T11:15:10.447304",
     "exception": false,
     "start_time": "2024-05-23T11:15:10.426529",
     "status": "completed"
    },
    "tags": []
   },
   "outputs": [
    {
     "data": {
      "application/javascript": [
       "parent.postMessage({\"jupyterEvent\": \"custom.exercise_interaction\", \"data\": {\"interactionType\": 3, \"questionType\": 2, \"questionId\": \"4_ReviewsPerRegion\", \"learnToolsVersion\": \"0.3.4\", \"valueTowardsCompletion\": 0.0, \"failureMessage\": \"\", \"exceptionClass\": \"\", \"trace\": \"\", \"outcomeType\": 4}}, \"*\")"
      ],
      "text/plain": [
       "<IPython.core.display.Javascript object>"
      ]
     },
     "metadata": {},
     "output_type": "display_data"
    },
    {
     "data": {
      "text/markdown": [
       "<span style=\"color:#33cc99\">Solution:</span> \n",
       "```python\n",
       "reviews_per_region = reviews.region_1.fillna('Unknown').value_counts().sort_values(ascending=False)\n",
       "```"
      ],
      "text/plain": [
       "Solution: \n",
       "```python\n",
       "reviews_per_region = reviews.region_1.fillna('Unknown').value_counts().sort_values(ascending=False)\n",
       "```"
      ]
     },
     "metadata": {},
     "output_type": "display_data"
    }
   ],
   "source": [
    "#q4.hint()\n",
    "q4.solution()"
   ]
  },
  {
   "cell_type": "markdown",
   "id": "4a54f4de",
   "metadata": {
    "papermill": {
     "duration": 0.008959,
     "end_time": "2024-05-23T11:15:10.465590",
     "exception": false,
     "start_time": "2024-05-23T11:15:10.456631",
     "status": "completed"
    },
    "tags": []
   },
   "source": [
    "# Keep going\n",
    "\n",
    "Move on to **[renaming and combining](https://www.kaggle.com/residentmario/renaming-and-combining)**."
   ]
  },
  {
   "cell_type": "markdown",
   "id": "697d76fd",
   "metadata": {
    "papermill": {
     "duration": 0.00905,
     "end_time": "2024-05-23T11:15:10.483964",
     "exception": false,
     "start_time": "2024-05-23T11:15:10.474914",
     "status": "completed"
    },
    "tags": []
   },
   "source": [
    "---\n",
    "\n",
    "\n",
    "\n",
    "\n",
    "*Have questions or comments? Visit the [course discussion forum](https://www.kaggle.com/learn/pandas/discussion) to chat with other learners.*"
   ]
  }
 ],
 "metadata": {
  "kaggle": {
   "accelerator": "none",
   "dataSources": [
    {
     "datasetId": 655,
     "sourceId": 1252,
     "sourceType": "datasetVersion"
    },
    {
     "datasetId": 2321,
     "sourceId": 3919,
     "sourceType": "datasetVersion"
    },
    {
     "datasetId": 2894,
     "sourceId": 4877,
     "sourceType": "datasetVersion"
    },
    {
     "datasetId": 3491,
     "sourceId": 5624,
     "sourceType": "datasetVersion"
    },
    {
     "datasetId": 1442,
     "sourceId": 8172,
     "sourceType": "datasetVersion"
    },
    {
     "datasetId": 9366,
     "sourceId": 13206,
     "sourceType": "datasetVersion"
    },
    {
     "datasetId": 179555,
     "sourceId": 403916,
     "sourceType": "datasetVersion"
    },
    {
     "datasetId": 4549,
     "sourceId": 466349,
     "sourceType": "datasetVersion"
    },
    {
     "datasetId": 2478,
     "sourceId": 1151655,
     "sourceType": "datasetVersion"
    },
    {
     "datasetId": 10128,
     "sourceId": 5438389,
     "sourceType": "datasetVersion"
    }
   ],
   "isGpuEnabled": false,
   "isInternetEnabled": false,
   "language": "python",
   "sourceType": "notebook"
  },
  "kernelspec": {
   "display_name": "Python 3",
   "language": "python",
   "name": "python3"
  },
  "language_info": {
   "codemirror_mode": {
    "name": "ipython",
    "version": 3
   },
   "file_extension": ".py",
   "mimetype": "text/x-python",
   "name": "python",
   "nbconvert_exporter": "python",
   "pygments_lexer": "ipython3",
   "version": "3.10.13"
  },
  "papermill": {
   "default_parameters": {},
   "duration": 7.883108,
   "end_time": "2024-05-23T11:15:11.013479",
   "environment_variables": {},
   "exception": null,
   "input_path": "__notebook__.ipynb",
   "output_path": "__notebook__.ipynb",
   "parameters": {},
   "start_time": "2024-05-23T11:15:03.130371",
   "version": "2.5.0"
  }
 },
 "nbformat": 4,
 "nbformat_minor": 5
}
