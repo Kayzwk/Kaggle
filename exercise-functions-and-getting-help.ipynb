{
 "cells": [
  {
   "cell_type": "markdown",
   "id": "2ad97e63",
   "metadata": {
    "papermill": {
     "duration": 0.00788,
     "end_time": "2024-04-04T11:20:56.964280",
     "exception": false,
     "start_time": "2024-04-04T11:20:56.956400",
     "status": "completed"
    },
    "tags": []
   },
   "source": [
    "**This notebook is an exercise in the [Python](https://www.kaggle.com/learn/python) course.  You can reference the tutorial at [this link](https://www.kaggle.com/colinmorris/functions-and-getting-help).**\n",
    "\n",
    "---\n"
   ]
  },
  {
   "cell_type": "markdown",
   "id": "8c1bcaa5",
   "metadata": {
    "papermill": {
     "duration": 0.006118,
     "end_time": "2024-04-04T11:20:56.977952",
     "exception": false,
     "start_time": "2024-04-04T11:20:56.971834",
     "status": "completed"
    },
    "tags": []
   },
   "source": [
    "Functions are powerful. Try writing some yourself.\n",
    "\n",
    "As before, don't forget to run the setup code below before jumping into question 1."
   ]
  },
  {
   "cell_type": "code",
   "execution_count": 1,
   "id": "cbefd342",
   "metadata": {
    "_kg_hide-input": true,
    "_kg_hide-output": true,
    "execution": {
     "iopub.execute_input": "2024-04-04T11:20:56.992685Z",
     "iopub.status.busy": "2024-04-04T11:20:56.992113Z",
     "iopub.status.idle": "2024-04-04T11:20:58.040407Z",
     "shell.execute_reply": "2024-04-04T11:20:58.039278Z"
    },
    "papermill": {
     "duration": 1.059222,
     "end_time": "2024-04-04T11:20:58.043442",
     "exception": false,
     "start_time": "2024-04-04T11:20:56.984220",
     "status": "completed"
    },
    "tags": []
   },
   "outputs": [
    {
     "name": "stdout",
     "output_type": "stream",
     "text": [
      "Setup complete.\n"
     ]
    }
   ],
   "source": [
    "# SETUP. You don't need to worry for now about what this code does or how it works.\n",
    "from learntools.core import binder; binder.bind(globals())\n",
    "from learntools.python.ex2 import *\n",
    "print('Setup complete.')"
   ]
  },
  {
   "cell_type": "markdown",
   "id": "2bd81b98",
   "metadata": {
    "papermill": {
     "duration": 0.007513,
     "end_time": "2024-04-04T11:20:58.057327",
     "exception": false,
     "start_time": "2024-04-04T11:20:58.049814",
     "status": "completed"
    },
    "tags": []
   },
   "source": [
    "# 1.\n",
    "\n",
    "Complete the body of the following function according to its docstring.\n",
    "\n",
    "HINT: Python has a built-in function `round`."
   ]
  },
  {
   "cell_type": "code",
   "execution_count": 2,
   "id": "53e0bdb9",
   "metadata": {
    "execution": {
     "iopub.execute_input": "2024-04-04T11:20:58.072423Z",
     "iopub.status.busy": "2024-04-04T11:20:58.071586Z",
     "iopub.status.idle": "2024-04-04T11:20:58.086177Z",
     "shell.execute_reply": "2024-04-04T11:20:58.084862Z"
    },
    "papermill": {
     "duration": 0.024613,
     "end_time": "2024-04-04T11:20:58.088333",
     "exception": false,
     "start_time": "2024-04-04T11:20:58.063720",
     "status": "completed"
    },
    "tags": []
   },
   "outputs": [
    {
     "data": {
      "application/javascript": [
       "parent.postMessage({\"jupyterEvent\": \"custom.exercise_interaction\", \"data\": {\"outcomeType\": 1, \"valueTowardsCompletion\": 0.16666666666666666, \"interactionType\": 1, \"questionType\": 2, \"questionId\": \"1_RoundFunctionProblem\", \"learnToolsVersion\": \"0.3.4\", \"failureMessage\": \"\", \"exceptionClass\": \"\", \"trace\": \"\"}}, \"*\")"
      ],
      "text/plain": [
       "<IPython.core.display.Javascript object>"
      ]
     },
     "metadata": {},
     "output_type": "display_data"
    },
    {
     "data": {
      "text/markdown": [
       "<span style=\"color:#33cc33\">Correct</span>"
      ],
      "text/plain": [
       "Correct"
      ]
     },
     "metadata": {},
     "output_type": "display_data"
    }
   ],
   "source": [
    "def round_to_two_places(num):\n",
    "    \"\"\"Return the given number rounded to two decimal places. \n",
    "    \n",
    "    >>> round_to_two_places(3.14159)\n",
    "    3.14\n",
    "    \"\"\"\n",
    "    return round(num, 2)\n",
    "    # Replace this body with your own code.\n",
    "    # (\"pass\" is a keyword that does literally nothing. We used it as a placeholder\n",
    "    # because after we begin a code block, Python requires at least one line of code)\n",
    "    pass\n",
    "\n",
    "# Check your answer\n",
    "q1.check()"
   ]
  },
  {
   "cell_type": "code",
   "execution_count": 3,
   "id": "bcb2943e",
   "metadata": {
    "execution": {
     "iopub.execute_input": "2024-04-04T11:20:58.103314Z",
     "iopub.status.busy": "2024-04-04T11:20:58.102923Z",
     "iopub.status.idle": "2024-04-04T11:20:58.115425Z",
     "shell.execute_reply": "2024-04-04T11:20:58.114610Z"
    },
    "papermill": {
     "duration": 0.022587,
     "end_time": "2024-04-04T11:20:58.117510",
     "exception": false,
     "start_time": "2024-04-04T11:20:58.094923",
     "status": "completed"
    },
    "tags": []
   },
   "outputs": [
    {
     "data": {
      "application/javascript": [
       "parent.postMessage({\"jupyterEvent\": \"custom.exercise_interaction\", \"data\": {\"interactionType\": 2, \"questionType\": 2, \"questionId\": \"1_RoundFunctionProblem\", \"learnToolsVersion\": \"0.3.4\", \"valueTowardsCompletion\": 0.0, \"failureMessage\": \"\", \"exceptionClass\": \"\", \"trace\": \"\", \"outcomeType\": 4}}, \"*\")"
      ],
      "text/plain": [
       "<IPython.core.display.Javascript object>"
      ]
     },
     "metadata": {},
     "output_type": "display_data"
    },
    {
     "data": {
      "text/markdown": [
       "<span style=\"color:#3366cc\">Hint:</span> Run `help(round)` in the console (or in a code cell) to learn more about the round function. You'll need to use the function's optional second argument."
      ],
      "text/plain": [
       "Hint: Run `help(round)` in the console (or in a code cell) to learn more about the round function. You'll need to use the function's optional second argument."
      ]
     },
     "metadata": {},
     "output_type": "display_data"
    },
    {
     "data": {
      "application/javascript": [
       "parent.postMessage({\"jupyterEvent\": \"custom.exercise_interaction\", \"data\": {\"interactionType\": 3, \"questionType\": 2, \"questionId\": \"1_RoundFunctionProblem\", \"learnToolsVersion\": \"0.3.4\", \"valueTowardsCompletion\": 0.0, \"failureMessage\": \"\", \"exceptionClass\": \"\", \"trace\": \"\", \"outcomeType\": 4}}, \"*\")"
      ],
      "text/plain": [
       "<IPython.core.display.Javascript object>"
      ]
     },
     "metadata": {},
     "output_type": "display_data"
    },
    {
     "data": {
      "text/markdown": [
       "<span style=\"color:#33cc99\">Solution:</span> \n",
       "```python\n",
       "return round(num, 2)\n",
       "```"
      ],
      "text/plain": [
       "Solution: \n",
       "```python\n",
       "return round(num, 2)\n",
       "```"
      ]
     },
     "metadata": {},
     "output_type": "display_data"
    }
   ],
   "source": [
    "# Uncomment the following for a hint\n",
    "q1.hint()\n",
    "# Or uncomment the following to peek at the solution\n",
    "q1.solution()"
   ]
  },
  {
   "cell_type": "markdown",
   "id": "9ebe4906",
   "metadata": {
    "papermill": {
     "duration": 0.007104,
     "end_time": "2024-04-04T11:20:58.132074",
     "exception": false,
     "start_time": "2024-04-04T11:20:58.124970",
     "status": "completed"
    },
    "tags": []
   },
   "source": [
    "# 2.\n",
    "The help for `round` says that `ndigits` (the second argument) may be negative.\n",
    "What do you think will happen when it is? Try some examples in the following cell."
   ]
  },
  {
   "cell_type": "code",
   "execution_count": 4,
   "id": "e85084d8",
   "metadata": {
    "execution": {
     "iopub.execute_input": "2024-04-04T11:20:58.148475Z",
     "iopub.status.busy": "2024-04-04T11:20:58.148061Z",
     "iopub.status.idle": "2024-04-04T11:20:58.155479Z",
     "shell.execute_reply": "2024-04-04T11:20:58.153905Z"
    },
    "papermill": {
     "duration": 0.01851,
     "end_time": "2024-04-04T11:20:58.157896",
     "exception": false,
     "start_time": "2024-04-04T11:20:58.139386",
     "status": "completed"
    },
    "tags": []
   },
   "outputs": [
    {
     "name": "stdout",
     "output_type": "stream",
     "text": [
      "12340\n",
      "12300\n",
      "-990.0\n",
      "-1000.0\n"
     ]
    }
   ],
   "source": [
    "# Positive number rounded to the nearest ten\n",
    "print(round(12345, -1))  # Output: 12350\n",
    "\n",
    "# Positive number rounded to the nearest hundred\n",
    "print(round(12345, -2))  # Output: 12300\n",
    "\n",
    "# Negative number rounded to the nearest ten\n",
    "print(round(-987.654, -1))  # Output: -990.0\n",
    "\n",
    "# Negative number rounded to the nearest hundred\n",
    "print(round(-987.654, -2))  # Output: -1000.0\n"
   ]
  },
  {
   "cell_type": "markdown",
   "id": "1e8e9585",
   "metadata": {
    "papermill": {
     "duration": 0.007428,
     "end_time": "2024-04-04T11:20:58.173205",
     "exception": false,
     "start_time": "2024-04-04T11:20:58.165777",
     "status": "completed"
    },
    "tags": []
   },
   "source": [
    "Can you think of a case where this would be useful?  Once you're ready, run the code cell below to see the answer and to receive credit for completing the problem."
   ]
  },
  {
   "cell_type": "code",
   "execution_count": 5,
   "id": "2746f21b",
   "metadata": {
    "execution": {
     "iopub.execute_input": "2024-04-04T11:20:58.189912Z",
     "iopub.status.busy": "2024-04-04T11:20:58.189493Z",
     "iopub.status.idle": "2024-04-04T11:20:58.199034Z",
     "shell.execute_reply": "2024-04-04T11:20:58.197845Z"
    },
    "papermill": {
     "duration": 0.020653,
     "end_time": "2024-04-04T11:20:58.201316",
     "exception": false,
     "start_time": "2024-04-04T11:20:58.180663",
     "status": "completed"
    },
    "tags": []
   },
   "outputs": [
    {
     "data": {
      "application/javascript": [
       "parent.postMessage({\"jupyterEvent\": \"custom.exercise_interaction\", \"data\": {\"interactionType\": 3, \"questionType\": 4, \"questionId\": \"2_RoundNdigitsProblem\", \"learnToolsVersion\": \"0.3.4\", \"valueTowardsCompletion\": 0.0, \"failureMessage\": \"\", \"exceptionClass\": \"\", \"trace\": \"\", \"outcomeType\": 4}}, \"*\")"
      ],
      "text/plain": [
       "<IPython.core.display.Javascript object>"
      ]
     },
     "metadata": {},
     "output_type": "display_data"
    },
    {
     "data": {
      "text/markdown": [
       "<span style=\"color:#33cc99\">Solution:</span> As you've seen, `ndigits=-1` rounds to the nearest 10, `ndigits=-2` rounds to the nearest 100 and so on. Where might this be useful? Suppose we're dealing with large numbers:\n",
       "\n",
       "> The area of Finland is 338,424 km²  \n",
       "> The area of Greenland is 2,166,086 km²\n",
       "\n",
       "We probably don't care whether it's really 338,424, or 338,425, or 338,177. All those digits of accuracy are just distracting. We can chop them off by calling `round()` with `ndigits=-3`:\n",
       "\n",
       "> The area of Finland is 338,000 km²  \n",
       "> The area of Greenland is 2,166,000 km²\n",
       "\n",
       "(We'll talk about how we would get the commas later when we talk about string formatting :))\n"
      ],
      "text/plain": [
       "Solution: As you've seen, `ndigits=-1` rounds to the nearest 10, `ndigits=-2` rounds to the nearest 100 and so on. Where might this be useful? Suppose we're dealing with large numbers:\n",
       "\n",
       "> The area of Finland is 338,424 km²  \n",
       "> The area of Greenland is 2,166,086 km²\n",
       "\n",
       "We probably don't care whether it's really 338,424, or 338,425, or 338,177. All those digits of accuracy are just distracting. We can chop them off by calling `round()` with `ndigits=-3`:\n",
       "\n",
       "> The area of Finland is 338,000 km²  \n",
       "> The area of Greenland is 2,166,000 km²\n",
       "\n",
       "(We'll talk about how we would get the commas later when we talk about string formatting :))"
      ]
     },
     "metadata": {},
     "output_type": "display_data"
    }
   ],
   "source": [
    "# Check your answer (Run this code cell to receive credit!)\n",
    "q2.solution()"
   ]
  },
  {
   "cell_type": "markdown",
   "id": "3dc97177",
   "metadata": {
    "papermill": {
     "duration": 0.007657,
     "end_time": "2024-04-04T11:20:58.216956",
     "exception": false,
     "start_time": "2024-04-04T11:20:58.209299",
     "status": "completed"
    },
    "tags": []
   },
   "source": [
    "# 3.\n",
    "\n",
    "In the previous exercise, the candy-sharing friends Alice, Bob and Carol tried to split candies evenly. For the sake of their friendship, any candies left over would be smashed. For example, if they collectively bring home 91 candies, they'll take 30 each and smash 1.\n",
    "\n",
    "Below is a simple function that will calculate the number of candies to smash for *any* number of total candies.\n",
    "\n",
    "Modify it so that it optionally takes a second argument representing the number of friends the candies are being split between. If no second argument is provided, it should assume 3 friends, as before.\n",
    "\n",
    "Update the docstring to reflect this new behaviour."
   ]
  },
  {
   "cell_type": "code",
   "execution_count": 6,
   "id": "78c57aad",
   "metadata": {
    "execution": {
     "iopub.execute_input": "2024-04-04T11:20:58.234484Z",
     "iopub.status.busy": "2024-04-04T11:20:58.234084Z",
     "iopub.status.idle": "2024-04-04T11:20:58.243741Z",
     "shell.execute_reply": "2024-04-04T11:20:58.242930Z"
    },
    "papermill": {
     "duration": 0.020824,
     "end_time": "2024-04-04T11:20:58.245695",
     "exception": false,
     "start_time": "2024-04-04T11:20:58.224871",
     "status": "completed"
    },
    "tags": []
   },
   "outputs": [
    {
     "data": {
      "application/javascript": [
       "parent.postMessage({\"jupyterEvent\": \"custom.exercise_interaction\", \"data\": {\"outcomeType\": 1, \"valueTowardsCompletion\": 0.16666666666666666, \"interactionType\": 1, \"questionType\": 2, \"questionId\": \"3_CandySmashingFunctionProblem\", \"learnToolsVersion\": \"0.3.4\", \"failureMessage\": \"\", \"exceptionClass\": \"\", \"trace\": \"\"}}, \"*\")"
      ],
      "text/plain": [
       "<IPython.core.display.Javascript object>"
      ]
     },
     "metadata": {},
     "output_type": "display_data"
    },
    {
     "data": {
      "text/markdown": [
       "<span style=\"color:#33cc33\">Correct</span>"
      ],
      "text/plain": [
       "Correct"
      ]
     },
     "metadata": {},
     "output_type": "display_data"
    }
   ],
   "source": [
    "def to_smash(total_candies, n_friends=3):\n",
    "    \"\"\"Return the number of leftover candies that must be smashed after distributing\n",
    "    the given number of candies evenly between 3 friends.\n",
    "    \n",
    "    >>> to_smash(91)\n",
    "    1\n",
    "    \"\"\"\n",
    "    return total_candies % n_friends\n",
    "\n",
    "# Check your answer\n",
    "q3.check()"
   ]
  },
  {
   "cell_type": "code",
   "execution_count": 7,
   "id": "23061b4f",
   "metadata": {
    "execution": {
     "iopub.execute_input": "2024-04-04T11:20:58.263974Z",
     "iopub.status.busy": "2024-04-04T11:20:58.263575Z",
     "iopub.status.idle": "2024-04-04T11:20:58.268353Z",
     "shell.execute_reply": "2024-04-04T11:20:58.267240Z"
    },
    "papermill": {
     "duration": 0.016627,
     "end_time": "2024-04-04T11:20:58.270635",
     "exception": false,
     "start_time": "2024-04-04T11:20:58.254008",
     "status": "completed"
    },
    "tags": []
   },
   "outputs": [],
   "source": [
    "#q3.hint()"
   ]
  },
  {
   "cell_type": "code",
   "execution_count": 8,
   "id": "5c0ca54d",
   "metadata": {
    "execution": {
     "iopub.execute_input": "2024-04-04T11:20:58.290610Z",
     "iopub.status.busy": "2024-04-04T11:20:58.289589Z",
     "iopub.status.idle": "2024-04-04T11:20:58.298483Z",
     "shell.execute_reply": "2024-04-04T11:20:58.297418Z"
    },
    "papermill": {
     "duration": 0.020521,
     "end_time": "2024-04-04T11:20:58.300730",
     "exception": false,
     "start_time": "2024-04-04T11:20:58.280209",
     "status": "completed"
    },
    "tags": []
   },
   "outputs": [
    {
     "data": {
      "application/javascript": [
       "parent.postMessage({\"jupyterEvent\": \"custom.exercise_interaction\", \"data\": {\"interactionType\": 3, \"questionType\": 2, \"questionId\": \"3_CandySmashingFunctionProblem\", \"learnToolsVersion\": \"0.3.4\", \"valueTowardsCompletion\": 0.0, \"failureMessage\": \"\", \"exceptionClass\": \"\", \"trace\": \"\", \"outcomeType\": 4}}, \"*\")"
      ],
      "text/plain": [
       "<IPython.core.display.Javascript object>"
      ]
     },
     "metadata": {},
     "output_type": "display_data"
    },
    {
     "data": {
      "text/markdown": [
       "<span style=\"color:#33cc99\">Solution:</span> \n",
       "```python\n",
       "def to_smash(total_candies, n_friends=3):\n",
       "    return total_candies % n_friends\n",
       "```"
      ],
      "text/plain": [
       "Solution: \n",
       "```python\n",
       "def to_smash(total_candies, n_friends=3):\n",
       "    return total_candies % n_friends\n",
       "```"
      ]
     },
     "metadata": {},
     "output_type": "display_data"
    }
   ],
   "source": [
    "q3.solution()"
   ]
  },
  {
   "cell_type": "markdown",
   "id": "87d628d2",
   "metadata": {
    "papermill": {
     "duration": 0.008203,
     "end_time": "2024-04-04T11:20:58.317479",
     "exception": false,
     "start_time": "2024-04-04T11:20:58.309276",
     "status": "completed"
    },
    "tags": []
   },
   "source": [
    "# 4. (Optional)\n",
    "\n",
    "It may not be fun, but reading and understanding error messages will be an important part of your Python career.\n",
    "\n",
    "Each code cell below contains some commented buggy code. For each cell...\n",
    "\n",
    "1. Read the code and predict what you think will happen when it's run.\n",
    "2. Then uncomment the code and run it to see what happens. (**Tip**: In the kernel editor, you can highlight several lines and press `ctrl`+`/` to toggle commenting.)\n",
    "3. Fix the code (so that it accomplishes its intended purpose without throwing an exception)\n",
    "\n",
    "<!-- TODO: should this be autochecked? Delta is probably pretty small. -->"
   ]
  },
  {
   "cell_type": "code",
   "execution_count": 9,
   "id": "028f0c12",
   "metadata": {
    "execution": {
     "iopub.execute_input": "2024-04-04T11:20:58.336577Z",
     "iopub.status.busy": "2024-04-04T11:20:58.336134Z",
     "iopub.status.idle": "2024-04-04T11:20:58.342684Z",
     "shell.execute_reply": "2024-04-04T11:20:58.341449Z"
    },
    "papermill": {
     "duration": 0.01903,
     "end_time": "2024-04-04T11:20:58.344966",
     "exception": false,
     "start_time": "2024-04-04T11:20:58.325936",
     "status": "completed"
    },
    "tags": []
   },
   "outputs": [
    {
     "name": "stdout",
     "output_type": "stream",
     "text": [
      "10.0\n"
     ]
    }
   ],
   "source": [
    "def round_to_two_places(number):\n",
    "    return round(number, 2)\n",
    "\n",
    "# Test the function\n",
    "print(round_to_two_places(9.9999))  # Expected output: 10.0\n"
   ]
  },
  {
   "cell_type": "code",
   "execution_count": 10,
   "id": "4acbc4d6",
   "metadata": {
    "execution": {
     "iopub.execute_input": "2024-04-04T11:20:58.364097Z",
     "iopub.status.busy": "2024-04-04T11:20:58.363688Z",
     "iopub.status.idle": "2024-04-04T11:20:58.369584Z",
     "shell.execute_reply": "2024-04-04T11:20:58.368486Z"
    },
    "papermill": {
     "duration": 0.018298,
     "end_time": "2024-04-04T11:20:58.371979",
     "exception": false,
     "start_time": "2024-04-04T11:20:58.353681",
     "status": "completed"
    },
    "tags": []
   },
   "outputs": [
    {
     "name": "stdout",
     "output_type": "stream",
     "text": [
      "5\n"
     ]
    }
   ],
   "source": [
    "x = -10\n",
    "y = 5\n",
    "\n",
    "# Which of the two variables above has the smallest absolute value?\n",
    "smallest_abs = min(abs(x), abs(y))\n",
    "\n",
    "print(smallest_abs)  # Output: 5\n"
   ]
  },
  {
   "cell_type": "code",
   "execution_count": 11,
   "id": "bcb92929",
   "metadata": {
    "execution": {
     "iopub.execute_input": "2024-04-04T11:20:58.391545Z",
     "iopub.status.busy": "2024-04-04T11:20:58.391136Z",
     "iopub.status.idle": "2024-04-04T11:20:58.396381Z",
     "shell.execute_reply": "2024-04-04T11:20:58.395504Z"
    },
    "papermill": {
     "duration": 0.018036,
     "end_time": "2024-04-04T11:20:58.398983",
     "exception": false,
     "start_time": "2024-04-04T11:20:58.380947",
     "status": "completed"
    },
    "tags": []
   },
   "outputs": [
    {
     "name": "stdout",
     "output_type": "stream",
     "text": [
      "5\n"
     ]
    }
   ],
   "source": [
    "def f(x):\n",
    "    y = abs(x)\n",
    "    return y\n",
    "\n",
    "print(f(5))  # Output: 5\n"
   ]
  },
  {
   "cell_type": "markdown",
   "id": "ff7335e8",
   "metadata": {
    "papermill": {
     "duration": 0.008649,
     "end_time": "2024-04-04T11:20:58.416574",
     "exception": false,
     "start_time": "2024-04-04T11:20:58.407925",
     "status": "completed"
    },
    "tags": []
   },
   "source": [
    "# Keep Going\n",
    "\n",
    "Nice job with the code. Next up, you'll learn about *conditionals*, which you'll need to **[write interesting programs](https://www.kaggle.com/colinmorris/booleans-and-conditionals)**. "
   ]
  },
  {
   "cell_type": "markdown",
   "id": "77fe5ebe",
   "metadata": {
    "papermill": {
     "duration": 0.008564,
     "end_time": "2024-04-04T11:20:58.434460",
     "exception": false,
     "start_time": "2024-04-04T11:20:58.425896",
     "status": "completed"
    },
    "tags": []
   },
   "source": [
    "---\n",
    "\n",
    "\n",
    "\n",
    "\n",
    "*Have questions or comments? Visit the [course discussion forum](https://www.kaggle.com/learn/python/discussion) to chat with other learners.*"
   ]
  }
 ],
 "metadata": {
  "kaggle": {
   "accelerator": "none",
   "dataSources": [],
   "isGpuEnabled": false,
   "isInternetEnabled": false,
   "language": "python",
   "sourceType": "notebook"
  },
  "kernelspec": {
   "display_name": "Python 3",
   "language": "python",
   "name": "python3"
  },
  "language_info": {
   "codemirror_mode": {
    "name": "ipython",
    "version": 3
   },
   "file_extension": ".py",
   "mimetype": "text/x-python",
   "name": "python",
   "nbconvert_exporter": "python",
   "pygments_lexer": "ipython3",
   "version": "3.10.13"
  },
  "learntools_metadata": {
   "lesson_index": 1,
   "type": "exercise"
  },
  "papermill": {
   "default_parameters": {},
   "duration": 5.059562,
   "end_time": "2024-04-04T11:20:58.965127",
   "environment_variables": {},
   "exception": null,
   "input_path": "__notebook__.ipynb",
   "output_path": "__notebook__.ipynb",
   "parameters": {},
   "start_time": "2024-04-04T11:20:53.905565",
   "version": "2.5.0"
  }
 },
 "nbformat": 4,
 "nbformat_minor": 5
}
